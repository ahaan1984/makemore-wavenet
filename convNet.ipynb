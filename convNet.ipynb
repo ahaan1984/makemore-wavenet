{
 "cells": [
  {
   "cell_type": "code",
   "execution_count": 51,
   "metadata": {},
   "outputs": [],
   "source": [
    "import math\n",
    "import numpy as np\n",
    "import matplotlib.pyplot as plt"
   ]
  },
  {
   "cell_type": "code",
   "execution_count": 52,
   "metadata": {},
   "outputs": [],
   "source": [
    "import torch\n",
    "import torch.nn as nn\n",
    "import torch.nn.functional as F"
   ]
  },
  {
   "cell_type": "code",
   "execution_count": 53,
   "metadata": {},
   "outputs": [
    {
     "name": "stdout",
     "output_type": "stream",
     "text": [
      "emma\n",
      "olivi\n"
     ]
    }
   ],
   "source": [
    "words = open(\"names.txt\", \"r\").read()\n",
    "print(words[:10])"
   ]
  },
  {
   "cell_type": "code",
   "execution_count": 54,
   "metadata": {},
   "outputs": [],
   "source": [
    "def make_encoder_decoder(words: list[str]) -> tuple[dict[str, int], dict[int, str]]:\n",
    "    letters = sorted(set(\"\".join(words)))\n",
    "    encoder = {letter: i for i, letter in enumerate(letters)}\n",
    "    decoder = {i: letter for i, letter in enumerate(letters)}\n",
    "    return encoder, decoder"
   ]
  },
  {
   "cell_type": "code",
   "execution_count": 55,
   "metadata": {},
   "outputs": [],
   "source": [
    "def make_sequences(x: torch.Tensor, sequence_size: int) -> torch.Tensor:\n",
    "    sequences = []\n",
    "    for i in range(0, x.shape[0] - sequence_size):\n",
    "        sequences.append(x[i : i + sequence_size])\n",
    "    return torch.stack(sequences)"
   ]
  },
  {
   "cell_type": "code",
   "execution_count": 56,
   "metadata": {},
   "outputs": [],
   "source": [
    "def make_batches(x: torch.Tensor, batch_size):\n",
    "    n = x.shape[0]\n",
    "    indices = torch.randperm(n)\n",
    "    x = x[indices]\n",
    "    for i in range(0, n, batch_size):\n",
    "        yield x[i : i + batch_size, :-1], x[i : i + batch_size, 1:]"
   ]
  },
  {
   "cell_type": "code",
   "execution_count": 57,
   "metadata": {},
   "outputs": [],
   "source": [
    "stoi, itos = make_encoder_decoder(words)\n",
    "sequence_length = 64\n",
    "# create the dataset\n",
    "all_letters = torch.tensor([stoi[letter] for letter in words], dtype=torch.long)\n",
    "sequences = make_sequences(all_letters, sequence_length + 1)"
   ]
  },
  {
   "cell_type": "code",
   "execution_count": 58,
   "metadata": {},
   "outputs": [],
   "source": [
    "# Convolutional 1 Dimensional layer\n",
    "class conv1d(nn.Module):\n",
    "    def __init__(self, in_channels, out_channels, kernel_size, stride=1, dilation=1):\n",
    "        super(conv1d, self).__init__()\n",
    "        self.conv = nn.Conv1d(in_channels, out_channels, kernel_size, stride, dilation=dilation)\n",
    "        self.padding = (kernel_size - 1) * dilation\n",
    "\n",
    "    def forward(self, input):\n",
    "        return self.conv(F.pad(input, (self.padding, 0)))"
   ]
  },
  {
   "cell_type": "code",
   "execution_count": 59,
   "metadata": {},
   "outputs": [],
   "source": [
    "# Residual Connection\n",
    "class ResidualBlock(nn.Module):\n",
    "    def __init__(self, channel_dim, dilation):\n",
    "        super(ResidualBlock, self).__init__()\n",
    "        # filter and gate conv concatenated\n",
    "        self.conv = conv1d(channel_dim, channel_dim*2, 2, dilation=dilation)\n",
    "        self.batch_norm = nn.BatchNorm1d(channel_dim)\n",
    "\n",
    "    def forward(self, input):\n",
    "        output = self.conv(input)\n",
    "        filter_output = torch.tanh(output[:, :output.shape[1]//2])\n",
    "        gate_output = torch.sigmoid(output[:, output.shape[1]//2:])\n",
    "        output = filter_output * gate_output\n",
    "        output = self.batch_norm(output)\n",
    "        return output + input\n"
   ]
  },
  {
   "cell_type": "code",
   "execution_count": 60,
   "metadata": {},
   "outputs": [],
   "source": [
    "emb_dim = 128\n",
    "class WaveNet(nn.Module):\n",
    "    def __init__(self):\n",
    "        super(WaveNet, self).__init__()\n",
    "        self.embedding = nn.Embedding(len(stoi), emb_dim)\n",
    "        self.residual_blocks = nn.Sequential(\n",
    "            ResidualBlock(emb_dim, 1),\n",
    "            ResidualBlock(emb_dim, 2),\n",
    "            ResidualBlock(emb_dim, 4),\n",
    "            ResidualBlock(emb_dim, 8),\n",
    "            ResidualBlock(emb_dim, 16),\n",
    "            ResidualBlock(emb_dim, 32),\n",
    "            ResidualBlock(emb_dim, 64),\n",
    "        )\n",
    "        self.conv = conv1d(emb_dim, len(stoi), 2, dilation=128)\n",
    "\n",
    "    def forward(self, x: torch.Tensor):\n",
    "        x = self.embedding(x)\n",
    "        # make input shape into (batch_size, channels, sequence_length)\n",
    "        x = x.permute(0, 2, 1)\n",
    "        x = self.residual_blocks(x)\n",
    "        x = self.conv(x)\n",
    "        return x"
   ]
  },
  {
   "cell_type": "code",
   "execution_count": 61,
   "metadata": {},
   "outputs": [],
   "source": [
    "model = WaveNet()\n",
    "optimiser = torch.optim.AdamW(model.parameters(), lr=5e-4)\n",
    "lossi = []"
   ]
  },
  {
   "cell_type": "code",
   "execution_count": 62,
   "metadata": {},
   "outputs": [
    {
     "data": {
      "text/plain": [
       "472731"
      ]
     },
     "execution_count": 62,
     "metadata": {},
     "output_type": "execute_result"
    }
   ],
   "source": [
    "sum(p.nelement() for p in model.parameters())"
   ]
  },
  {
   "cell_type": "code",
   "execution_count": 63,
   "metadata": {},
   "outputs": [
    {
     "data": {
      "text/plain": [
       "WaveNet(\n",
       "  (embedding): Embedding(27, 128)\n",
       "  (residual_blocks): Sequential(\n",
       "    (0): ResidualBlock(\n",
       "      (conv): conv1d(\n",
       "        (conv): Conv1d(128, 256, kernel_size=(2,), stride=(1,))\n",
       "      )\n",
       "      (batch_norm): BatchNorm1d(128, eps=1e-05, momentum=0.1, affine=True, track_running_stats=True)\n",
       "    )\n",
       "    (1): ResidualBlock(\n",
       "      (conv): conv1d(\n",
       "        (conv): Conv1d(128, 256, kernel_size=(2,), stride=(1,), dilation=(2,))\n",
       "      )\n",
       "      (batch_norm): BatchNorm1d(128, eps=1e-05, momentum=0.1, affine=True, track_running_stats=True)\n",
       "    )\n",
       "    (2): ResidualBlock(\n",
       "      (conv): conv1d(\n",
       "        (conv): Conv1d(128, 256, kernel_size=(2,), stride=(1,), dilation=(4,))\n",
       "      )\n",
       "      (batch_norm): BatchNorm1d(128, eps=1e-05, momentum=0.1, affine=True, track_running_stats=True)\n",
       "    )\n",
       "    (3): ResidualBlock(\n",
       "      (conv): conv1d(\n",
       "        (conv): Conv1d(128, 256, kernel_size=(2,), stride=(1,), dilation=(8,))\n",
       "      )\n",
       "      (batch_norm): BatchNorm1d(128, eps=1e-05, momentum=0.1, affine=True, track_running_stats=True)\n",
       "    )\n",
       "    (4): ResidualBlock(\n",
       "      (conv): conv1d(\n",
       "        (conv): Conv1d(128, 256, kernel_size=(2,), stride=(1,), dilation=(16,))\n",
       "      )\n",
       "      (batch_norm): BatchNorm1d(128, eps=1e-05, momentum=0.1, affine=True, track_running_stats=True)\n",
       "    )\n",
       "    (5): ResidualBlock(\n",
       "      (conv): conv1d(\n",
       "        (conv): Conv1d(128, 256, kernel_size=(2,), stride=(1,), dilation=(32,))\n",
       "      )\n",
       "      (batch_norm): BatchNorm1d(128, eps=1e-05, momentum=0.1, affine=True, track_running_stats=True)\n",
       "    )\n",
       "    (6): ResidualBlock(\n",
       "      (conv): conv1d(\n",
       "        (conv): Conv1d(128, 256, kernel_size=(2,), stride=(1,), dilation=(64,))\n",
       "      )\n",
       "      (batch_norm): BatchNorm1d(128, eps=1e-05, momentum=0.1, affine=True, track_running_stats=True)\n",
       "    )\n",
       "  )\n",
       "  (conv): conv1d(\n",
       "    (conv): Conv1d(128, 27, kernel_size=(2,), stride=(1,), dilation=(128,))\n",
       "  )\n",
       ")"
      ]
     },
     "execution_count": 63,
     "metadata": {},
     "output_type": "execute_result"
    }
   ],
   "source": [
    "max_iters = 1\n",
    "batch_size = 64\n",
    "num_batches = sequences.shape[0] // batch_size\n",
    "model.train()"
   ]
  },
  {
   "cell_type": "code",
   "execution_count": 64,
   "metadata": {},
   "outputs": [
    {
     "name": "stdout",
     "output_type": "stream",
     "text": [
      "epoch: 0, batch: [   0/3563], loss: 4.1247\n",
      "epoch: 0, batch: [ 100/3563], loss: 2.0113\n",
      "epoch: 0, batch: [ 200/3563], loss: 1.7889\n",
      "epoch: 0, batch: [ 300/3563], loss: 1.6267\n",
      "epoch: 0, batch: [ 400/3563], loss: 1.6200\n",
      "epoch: 0, batch: [ 500/3563], loss: 1.5820\n",
      "epoch: 0, batch: [ 600/3563], loss: 1.4721\n",
      "epoch: 0, batch: [ 700/3563], loss: 1.3644\n",
      "epoch: 0, batch: [ 800/3563], loss: 1.3795\n",
      "epoch: 0, batch: [ 900/3563], loss: 1.3158\n",
      "epoch: 0, batch: [1000/3563], loss: 1.2712\n",
      "epoch: 0, batch: [1100/3563], loss: 1.2771\n",
      "epoch: 0, batch: [1200/3563], loss: 1.2457\n",
      "epoch: 0, batch: [1300/3563], loss: 1.1782\n",
      "epoch: 0, batch: [1400/3563], loss: 1.1202\n",
      "epoch: 0, batch: [1500/3563], loss: 1.1246\n",
      "epoch: 0, batch: [1600/3563], loss: 1.1074\n",
      "epoch: 0, batch: [1700/3563], loss: 1.0779\n",
      "epoch: 0, batch: [1800/3563], loss: 1.0885\n",
      "epoch: 0, batch: [1900/3563], loss: 1.0683\n",
      "epoch: 0, batch: [2000/3563], loss: 0.9687\n",
      "epoch: 0, batch: [2100/3563], loss: 0.9963\n",
      "epoch: 0, batch: [2200/3563], loss: 0.9285\n",
      "epoch: 0, batch: [2300/3563], loss: 0.9110\n",
      "epoch: 0, batch: [2400/3563], loss: 0.9620\n",
      "epoch: 0, batch: [2500/3563], loss: 0.9004\n",
      "epoch: 0, batch: [2600/3563], loss: 0.8723\n",
      "epoch: 0, batch: [2700/3563], loss: 0.8326\n",
      "epoch: 0, batch: [2800/3563], loss: 0.8610\n",
      "epoch: 0, batch: [2900/3563], loss: 0.8182\n",
      "epoch: 0, batch: [3000/3563], loss: 0.8416\n",
      "epoch: 0, batch: [3100/3563], loss: 0.7911\n",
      "epoch: 0, batch: [3200/3563], loss: 0.8168\n",
      "epoch: 0, batch: [3300/3563], loss: 0.7885\n",
      "epoch: 0, batch: [3400/3563], loss: 0.7604\n",
      "epoch: 0, batch: [3500/3563], loss: 0.7696\n",
      "epoch: 0, loss: 0.7720024585723877\n"
     ]
    }
   ],
   "source": [
    "for i in range(max_iters):\n",
    "    for batch_num, (x, y) in enumerate(make_batches(sequences, batch_size)):\n",
    "        y_hat = model(x)\n",
    "        loss = F.cross_entropy(y_hat.squeeze(), y)\n",
    "        \n",
    "        optimiser.zero_grad()\n",
    "        loss.backward()\n",
    "        optimiser.step()\n",
    "        lossi.append(loss.item())\n",
    "\n",
    "        if batch_num % 100 == 0:\n",
    "            print(f\"epoch: {i}, batch: [{batch_num:>4d}/{num_batches:>4d}], loss: {loss.item():.4f}\")\n",
    "    \n",
    "    print(f\"epoch: {i}, loss: {loss.item()}\")\n",
    "\n",
    "    # save checkpoint of model (optimizer and model state dict)\n",
    "    torch.save({\n",
    "        \"model_state_dict\": model.state_dict(),\n",
    "        \"optimiser_state_dict\": optimiser.state_dict(),\n",
    "        \"loss\": loss\n",
    "    }, \"checkpoint.pt\")"
   ]
  },
  {
   "cell_type": "code",
   "execution_count": 65,
   "metadata": {},
   "outputs": [
    {
     "data": {
      "text/plain": [
       "[<matplotlib.lines.Line2D at 0x21de7f9c050>]"
      ]
     },
     "execution_count": 65,
     "metadata": {},
     "output_type": "execute_result"
    },
    {
     "data": {
      "image/png": "[encoded data removed]",
      "text/plain": [
       "<Figure size 640x480 with 1 Axes>"
      ]
     },
     "metadata": {},
     "output_type": "display_data"
    }
   ],
   "source": [
    "plt.plot(lossi)"
   ]
  },
  {
   "cell_type": "code",
   "execution_count": 66,
   "metadata": {},
   "outputs": [
    {
     "data": {
      "text/plain": [
       "[<matplotlib.lines.Line2D at 0x21e0836f510>]"
      ]
     },
     "execution_count": 66,
     "metadata": {},
     "output_type": "execute_result"
    },
    {
     "data": {
      "image/png": "[encoded data removed]",
      "text/plain": [
       "<Figure size 640x480 with 1 Axes>"
      ]
     },
     "metadata": {},
     "output_type": "display_data"
    }
   ],
   "source": [
    "smoothed_losses = []\n",
    "for i in range(0, len(lossi)):\n",
    "    smoothed_losses.append(sum(lossi[i:i+500]) / 500)\n",
    "\n",
    "plt.plot(smoothed_losses[:-500])\n",
    "#"
   ]
  },
  {
   "cell_type": "code",
   "execution_count": 67,
   "metadata": {},
   "outputs": [],
   "source": [
    "# save model weights\n",
    "torch.save({\n",
    "    \"model_state_dict\": model.state_dict(),\n",
    "    \"optimizer_state_dict\": optimiser.state_dict(),\n",
    "    \"loss\": loss\n",
    "}, \"checkpoint.pt\")"
   ]
  },
  {
   "cell_type": "code",
   "execution_count": 68,
   "metadata": {},
   "outputs": [],
   "source": [
    "# text generation\n",
    "sequence_length = 128\n",
    "@torch.no_grad()\n",
    "def generate_text(model, start_text: str, length: int) -> str:\n",
    "    if ' ' not in stoi:\n",
    "        stoi[' '] = len(stoi)\n",
    "    # encode the start text\n",
    "    encoded_text = torch.tensor([stoi[letter] for letter in list(start_text)], dtype=torch.long)\n",
    "    # generate the text\n",
    "    for i in range(length):\n",
    "        # get the next letter\n",
    "        text = encoded_text[-sequence_length:]\n",
    "        y_hat = model(text.unsqueeze(0))\n",
    "        y_hat = y_hat.squeeze()[:, -1]\n",
    "        y_hat = F.softmax(y_hat, dim=-1)\n",
    "        # sample from the distribution\n",
    "        next_letter = torch.multinomial(y_hat, 1)\n",
    "        # add the letter to the encoded text\n",
    "        encoded_text = torch.cat((encoded_text, next_letter))\n",
    "    # decode the text\n",
    "    decoded_text = \"\".join([itos[letter.item()] for letter in encoded_text])\n",
    "    return decoded_text"
   ]
  },
  {
   "cell_type": "code",
   "execution_count": 70,
   "metadata": {},
   "outputs": [
    {
     "ename": "KeyError",
     "evalue": "' '",
     "output_type": "error",
     "traceback": [
      "\u001b[1;31m---------------------------------------------------------------------------\u001b[0m",
      "\u001b[1;31mKeyError\u001b[0m                                  Traceback (most recent call last)",
      "\u001b[1;32mc:\\Users\\AHAAN\\Documents\\ML\\makemore\\makemore-wavenet\\convNet.ipynb Cell 19\u001b[0m line \u001b[0;36m6\n\u001b[0;32m      <a href='vscode-notebook-cell:/c%3A/Users/AHAAN/Documents/ML/makemore/makemore-wavenet/convNet.ipynb#X50sZmlsZQ%3D%3D?line=3'>4</a>\u001b[0m start_text \u001b[39m=\u001b[39m \u001b[39m\"\u001b[39m\u001b[39m \u001b[39m\u001b[39m\"\u001b[39m \u001b[39m*\u001b[39m \u001b[39m128\u001b[39m\n\u001b[0;32m      <a href='vscode-notebook-cell:/c%3A/Users/AHAAN/Documents/ML/makemore/makemore-wavenet/convNet.ipynb#X50sZmlsZQ%3D%3D?line=4'>5</a>\u001b[0m \u001b[39m# generate text\u001b[39;00m\n\u001b[1;32m----> <a href='vscode-notebook-cell:/c%3A/Users/AHAAN/Documents/ML/makemore/makemore-wavenet/convNet.ipynb#X50sZmlsZQ%3D%3D?line=5'>6</a>\u001b[0m generated_text \u001b[39m=\u001b[39m generate_text(new_model, start_text, \u001b[39m2000\u001b[39;49m)\n\u001b[0;32m      <a href='vscode-notebook-cell:/c%3A/Users/AHAAN/Documents/ML/makemore/makemore-wavenet/convNet.ipynb#X50sZmlsZQ%3D%3D?line=6'>7</a>\u001b[0m \u001b[39mprint\u001b[39m(generated_text)\n",
      "File \u001b[1;32m~\\AppData\\Local\\Packages\\PythonSoftwareFoundation.Python.3.11_qbz5n2kfra8p0\\LocalCache\\local-packages\\Python311\\site-packages\\torch\\utils\\_contextlib.py:115\u001b[0m, in \u001b[0;36mcontext_decorator.<locals>.decorate_context\u001b[1;34m(*args, **kwargs)\u001b[0m\n\u001b[0;32m    112\u001b[0m \u001b[39m@functools\u001b[39m\u001b[39m.\u001b[39mwraps(func)\n\u001b[0;32m    113\u001b[0m \u001b[39mdef\u001b[39;00m \u001b[39mdecorate_context\u001b[39m(\u001b[39m*\u001b[39margs, \u001b[39m*\u001b[39m\u001b[39m*\u001b[39mkwargs):\n\u001b[0;32m    114\u001b[0m     \u001b[39mwith\u001b[39;00m ctx_factory():\n\u001b[1;32m--> 115\u001b[0m         \u001b[39mreturn\u001b[39;00m func(\u001b[39m*\u001b[39;49margs, \u001b[39m*\u001b[39;49m\u001b[39m*\u001b[39;49mkwargs)\n",
      "\u001b[1;32mc:\\Users\\AHAAN\\Documents\\ML\\makemore\\makemore-wavenet\\convNet.ipynb Cell 19\u001b[0m line \u001b[0;36m6\n\u001b[0;32m      <a href='vscode-notebook-cell:/c%3A/Users/AHAAN/Documents/ML/makemore/makemore-wavenet/convNet.ipynb#X50sZmlsZQ%3D%3D?line=2'>3</a>\u001b[0m \u001b[39m@torch\u001b[39m\u001b[39m.\u001b[39mno_grad()\n\u001b[0;32m      <a href='vscode-notebook-cell:/c%3A/Users/AHAAN/Documents/ML/makemore/makemore-wavenet/convNet.ipynb#X50sZmlsZQ%3D%3D?line=3'>4</a>\u001b[0m \u001b[39mdef\u001b[39;00m \u001b[39mgenerate_text\u001b[39m(model, start_text: \u001b[39mstr\u001b[39m, length: \u001b[39mint\u001b[39m) \u001b[39m-\u001b[39m\u001b[39m>\u001b[39m \u001b[39mstr\u001b[39m:\n\u001b[0;32m      <a href='vscode-notebook-cell:/c%3A/Users/AHAAN/Documents/ML/makemore/makemore-wavenet/convNet.ipynb#X50sZmlsZQ%3D%3D?line=4'>5</a>\u001b[0m     \u001b[39m# encode the start text\u001b[39;00m\n\u001b[1;32m----> <a href='vscode-notebook-cell:/c%3A/Users/AHAAN/Documents/ML/makemore/makemore-wavenet/convNet.ipynb#X50sZmlsZQ%3D%3D?line=5'>6</a>\u001b[0m     encoded_text \u001b[39m=\u001b[39m torch\u001b[39m.\u001b[39mtensor([stoi[letter] \u001b[39mfor\u001b[39;49;00m letter \u001b[39min\u001b[39;49;00m \u001b[39mlist\u001b[39;49m(start_text)], dtype\u001b[39m=\u001b[39mtorch\u001b[39m.\u001b[39mlong)\n\u001b[0;32m      <a href='vscode-notebook-cell:/c%3A/Users/AHAAN/Documents/ML/makemore/makemore-wavenet/convNet.ipynb#X50sZmlsZQ%3D%3D?line=6'>7</a>\u001b[0m     \u001b[39m# generate the text\u001b[39;00m\n\u001b[0;32m      <a href='vscode-notebook-cell:/c%3A/Users/AHAAN/Documents/ML/makemore/makemore-wavenet/convNet.ipynb#X50sZmlsZQ%3D%3D?line=7'>8</a>\u001b[0m     \u001b[39mfor\u001b[39;00m i \u001b[39min\u001b[39;00m \u001b[39mrange\u001b[39m(length):\n\u001b[0;32m      <a href='vscode-notebook-cell:/c%3A/Users/AHAAN/Documents/ML/makemore/makemore-wavenet/convNet.ipynb#X50sZmlsZQ%3D%3D?line=8'>9</a>\u001b[0m         \u001b[39m# get the next letter\u001b[39;00m\n",
      "\u001b[1;32mc:\\Users\\AHAAN\\Documents\\ML\\makemore\\makemore-wavenet\\convNet.ipynb Cell 19\u001b[0m line \u001b[0;36m6\n\u001b[0;32m      <a href='vscode-notebook-cell:/c%3A/Users/AHAAN/Documents/ML/makemore/makemore-wavenet/convNet.ipynb#X50sZmlsZQ%3D%3D?line=2'>3</a>\u001b[0m \u001b[39m@torch\u001b[39m\u001b[39m.\u001b[39mno_grad()\n\u001b[0;32m      <a href='vscode-notebook-cell:/c%3A/Users/AHAAN/Documents/ML/makemore/makemore-wavenet/convNet.ipynb#X50sZmlsZQ%3D%3D?line=3'>4</a>\u001b[0m \u001b[39mdef\u001b[39;00m \u001b[39mgenerate_text\u001b[39m(model, start_text: \u001b[39mstr\u001b[39m, length: \u001b[39mint\u001b[39m) \u001b[39m-\u001b[39m\u001b[39m>\u001b[39m \u001b[39mstr\u001b[39m:\n\u001b[0;32m      <a href='vscode-notebook-cell:/c%3A/Users/AHAAN/Documents/ML/makemore/makemore-wavenet/convNet.ipynb#X50sZmlsZQ%3D%3D?line=4'>5</a>\u001b[0m     \u001b[39m# encode the start text\u001b[39;00m\n\u001b[1;32m----> <a href='vscode-notebook-cell:/c%3A/Users/AHAAN/Documents/ML/makemore/makemore-wavenet/convNet.ipynb#X50sZmlsZQ%3D%3D?line=5'>6</a>\u001b[0m     encoded_text \u001b[39m=\u001b[39m torch\u001b[39m.\u001b[39mtensor([stoi[letter] \u001b[39mfor\u001b[39;00m letter \u001b[39min\u001b[39;00m \u001b[39mlist\u001b[39m(start_text)], dtype\u001b[39m=\u001b[39mtorch\u001b[39m.\u001b[39mlong)\n\u001b[0;32m      <a href='vscode-notebook-cell:/c%3A/Users/AHAAN/Documents/ML/makemore/makemore-wavenet/convNet.ipynb#X50sZmlsZQ%3D%3D?line=6'>7</a>\u001b[0m     \u001b[39m# generate the text\u001b[39;00m\n\u001b[0;32m      <a href='vscode-notebook-cell:/c%3A/Users/AHAAN/Documents/ML/makemore/makemore-wavenet/convNet.ipynb#X50sZmlsZQ%3D%3D?line=7'>8</a>\u001b[0m     \u001b[39mfor\u001b[39;00m i \u001b[39min\u001b[39;00m \u001b[39mrange\u001b[39m(length):\n\u001b[0;32m      <a href='vscode-notebook-cell:/c%3A/Users/AHAAN/Documents/ML/makemore/makemore-wavenet/convNet.ipynb#X50sZmlsZQ%3D%3D?line=8'>9</a>\u001b[0m         \u001b[39m# get the next letter\u001b[39;00m\n",
      "\u001b[1;31mKeyError\u001b[0m: ' '"
     ]
    }
   ],
   "source": [
    "new_model = model.eval()\n",
    "\n",
    "# start text of length 128 characters\n",
    "start_text = \" \" * 128\n",
    "# generate text\n",
    "generated_text = generate_text(new_model, start_text, 2000)\n",
    "print(generated_text)"
   ]
  },
  {
   "cell_type": "code",
   "execution_count": null,
   "metadata": {},
   "outputs": [],
   "source": []
  }
 ],
 "metadata": {
  "kernelspec": {
   "display_name": "Python 3",
   "language": "python",
   "name": "python3"
  },
  "language_info": {
   "codemirror_mode": {
    "name": "ipython",
    "version": 3
   },
   "file_extension": ".py",
   "mimetype": "text/x-python",
   "name": "python",
   "nbconvert_exporter": "python",
   "pygments_lexer": "ipython3",
   "version": "3.11.4"
  },
  "orig_nbformat": 4
 },
 "nbformat": 4,
 "nbformat_minor": 2
}
